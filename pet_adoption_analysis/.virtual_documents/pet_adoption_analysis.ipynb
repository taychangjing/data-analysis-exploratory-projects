





%matplotlib inline
import pandas as pd
import numpy as np
import matplotlib.pyplot as plt
import seaborn as sns


df = pd.read_csv('dataset/pet_adoption_data.csv')
df


df.info()


df= df.drop('PetID', axis=1)
df


df['WeightKg']=df['WeightKg'].round(2)
df.head()





df_PetType=df['PetType'].value_counts()
ax = df_PetType.plot(kind='bar', figsize=(8,6), color='lightblue')
for p in ax.patches:
    height = p.get_height()
    ax.annotate(f'{height}', 
                (p.get_x() + p.get_width() / 2., height),
                ha='center', va='center', 
                xytext=(0, 6), 
                textcoords='offset points')
plt.title('Distribution of Pet Type')
plt.xlabel('Pet Type')
plt.ylabel('Counts')
plt.show()





# Custom palette
custom_palette = ['#FF6347', '#4682B4']

# Create a 2x2 grid of subplots
fig, axes = plt.subplots(2, 2, figsize=(20, 15))

# Plot for Pet Type
ax0 = sns.countplot(ax=axes[0, 0], x=df['PetType'], hue=df['AdoptionLikelihood'], palette=custom_palette)
for p in ax0.patches:
    height = int(p.get_height())  # Convert height to integer
    if height > 0:  # Only annotate if the height is greater than zero
        ax0.annotate(f'{height}', (p.get_x() + p.get_width() / 2., height), 
                     ha='center', va='center', xytext=(0, 5), textcoords='offset points')
ax0.legend(title='AdoptionLikelihood', loc="center left", bbox_to_anchor=(1, 0.5))

# Plot for Breed
ax1 = sns.countplot(ax=axes[0, 1], x=df['Breed'], hue=df['AdoptionLikelihood'], palette=custom_palette)
for p in ax1.patches:
    height = int(p.get_height())  # Convert height to integer
    if height > 0:  # Only annotate if the height is greater than zero
        ax1.annotate(f'{height}', (p.get_x() + p.get_width() / 2., height), 
                     ha='center', va='center', xytext=(0, 5), textcoords='offset points')
ax1.legend(title='AdoptionLikelihood', loc="center left", bbox_to_anchor=(1, 0.5))

# Plot for Color
ax2 = sns.countplot(ax=axes[1, 0], x=df['Color'], hue=df['AdoptionLikelihood'], palette=custom_palette)
for p in ax2.patches:
    height = int(p.get_height())  # Convert height to integer
    if height > 0:  # Only annotate if the height is greater than zero
        ax2.annotate(f'{height}', (p.get_x() + p.get_width() / 2., height), 
                     ha='center', va='center', xytext=(0, 5), textcoords='offset points')
ax2.legend(title='AdoptionLikelihood', loc="center left", bbox_to_anchor=(1, 0.5))

# Plot for Size
ax3 = sns.countplot(ax=axes[1, 1], x=df['Size'], hue=df['AdoptionLikelihood'], palette=custom_palette)
for p in ax3.patches:
    height = int(p.get_height())  # Convert height to integer
    if height > 0:  # Only annotate if the height is greater than zero
        ax3.annotate(f'{height}', (p.get_x() + p.get_width() / 2., height), 
                     ha='center', va='center', xytext=(0, 5), textcoords='offset points')
ax3.legend(title='AdoptionLikelihood', loc="center left", bbox_to_anchor=(1, 0.5))

plt.tight_layout()
plt.show()






df_dog=df[(df['PetType'] == 'Dog')]
df_dog=df_dog.reset_index(drop=True)
df_dog=df_dog.drop('PetType', axis=1)


df_labrador= df_dog.loc[
    (df_dog["Breed"] == "Labrador")
    & (df_dog["Size"] == "Medium")
    & (df_dog["Color"] == "Orange")
].copy()
df_labrador = df_labrador.sort_values(by="WeightKg")
df_labrador= df_labrador.reset_index(drop=True)
df_labrador


sns.scatterplot(data = df_labrador, x = "AgeMonths", y = "WeightKg")
plt.grid()
plt.show()








# Create a 1x3 grid of subplots
fig, axes = plt.subplots(1, 3, figsize=(30, 10))

# Plot for Vaccinated
ax4 = sns.countplot(ax=axes[0], x=df['Vaccinated'], hue=df['AdoptionLikelihood'], palette=custom_palette)
for p in ax4.patches:
    height = int(p.get_height())  # Convert height to integer
    if height > 0:  # Only annotate if the height is greater than zero
        ax4.annotate(f'{height}', (p.get_x() + p.get_width() / 2., height), 
                     ha='center', va='center', xytext=(0, 5), textcoords='offset points')
ax4.legend(title='AdoptionLikelihood', loc="upper right")

# Plot for Health Condition
ax5 = sns.countplot(ax=axes[1], x=df['HealthCondition'], hue=df['AdoptionLikelihood'], palette=custom_palette)
for p in ax5.patches:
    height = int(p.get_height())  # Convert height to integer
    if height > 0:  # Only annotate if the height is greater than zero
        ax5.annotate(f'{height}', (p.get_x() + p.get_width() / 2., height), 
                     ha='center', va='center', xytext=(0, 5), textcoords='offset points')
ax5.legend(title='AdoptionLikelihood', loc="upper right")

# Plot for Previous Owner
ax6 = sns.countplot(ax=axes[2], x=df['PreviousOwner'], hue=df['AdoptionLikelihood'], palette=custom_palette)
for p in ax6.patches:
    height = int(p.get_height())  # Convert height to integer
    if height > 0:  # Only annotate if the height is greater than zero
        ax6.annotate(f'{height}', (p.get_x() + p.get_width() / 2., height), 
                     ha='center', va='center', xytext=(0, 5), textcoords='offset points')
ax6.legend(title='AdoptionLikelihood', loc="upper right")

plt.tight_layout()
plt.show()





fig, axes = plt.subplots(2, 3, figsize=(30, 15))

# Pet Type
sns.boxplot(ax=axes[0, 0], data=df, x='PetType', y='AgeMonths')
plt.title('Age Distribution by Pet Type')

# Breed
sns.boxplot(ax=axes[0, 1], data=df, x='Breed', y='AgeMonths')
plt.title('Age Distribution by Breed')
# Size
sns.boxplot(ax=axes[0, 2], data=df, x='Size', y='AgeMonths')
plt.title('Age Distribution by Size')

# Vaccinated
sns.boxplot(ax=axes[1, 0], data=df, x='Vaccinated', y='AgeMonths')
plt.title('Age Distribution by Vaccination Status')

# Health Condition
sns.boxplot(ax=axes[1, 1], data=df, x='HealthCondition', y='AgeMonths')
plt.title('Age Distribution by Health Condition')

# Previous Owner
sns.boxplot(ax=axes[1, 2], data=df, x='PreviousOwner', y='AgeMonths')
plt.title('Age Distribution by Previous Owner Status')

plt.tight_layout()
plt.show()


fig, axes = plt.subplots(2, 3, figsize=(30, 15))

# PetType
sns.boxplot(ax=axes[0, 0], data=df, x='PetType', y='WeightKg')
plt.title('Weight Distribution by Pet Type')

# Breed
sns.boxplot(ax=axes[0, 1], data=df, x='Breed', y='WeightKg')
plt.title('Weight Distribution by Breed')

# Size
sns.boxplot(ax=axes[0, 2], data=df, x='Size', y='WeightKg')
plt.title('Weight Distribution by Size')

# Vaccinated
sns.boxplot(ax=axes[1, 0], data=df, x='Vaccinated', y='WeightKg')
plt.title('Weight Distribution by Vaccination Status')

# HealthCondition
sns.boxplot(ax=axes[1, 1], data=df, x='HealthCondition', y='WeightKg')
plt.title('Weight Distribution by Health Condition')

# PreviousOwner
sns.boxplot(ax=axes[1, 2], data=df, x='PreviousOwner', y='WeightKg')
plt.title('Weight Distribution by Previous Owner Status')

plt.tight_layout()
plt.show()


fig, axes = plt.subplots(2, 3, figsize=(30, 15))

# PetType
sns.boxplot(ax=axes[0, 0], data=df, x='PetType', y='AdoptionFee')
plt.title('Adoption Fee Distribution by Pet Type')

# Breed
sns.boxplot(ax=axes[0, 1], data=df, x='Breed', y='AdoptionFee')
plt.title('Adoption Fee Distribution by Breed')
plt.xticks(rotation=90)  # Rotate x-axis labels if there are many breeds

# Size
sns.boxplot(ax=axes[0, 2], data=df, x='Size', y='AdoptionFee')
plt.title('Adoption Fee Distribution by Size')

# Vaccinated
sns.boxplot(ax=axes[1, 0], data=df, x='Vaccinated', y='AdoptionFee')
plt.title('Adoption Fee Distribution by Vaccination Status')

# HealthCondition
sns.boxplot(ax=axes[1, 1], data=df, x='HealthCondition', y='AdoptionFee')
plt.title('Adoption Fee Distribution by Health Condition')

# PreviousOwner
sns.boxplot(ax=axes[1, 2], data=df, x='PreviousOwner', y='AdoptionFee')
plt.title('Adoption Fee Distribution by Previous Owner Status')

plt.tight_layout()
plt.show()


from scipy import stats

# List of parameters to analyze
params = ['AgeMonths', 'WeightKg', 'TimeInShelterDays', 'AdoptionFee', 'Vaccinated', 'HealthCondition', 'PreviousOwner']

# Initialize lists to store results
pearson_coefficients = []
p_values = []

# Calculate Pearson correlation coefficients and p-values
for param in params:
    pearson_coef, p_value = stats.pearsonr(df[param], df['AdoptionLikelihood'])
    pearson_coefficients.append(round(pearson_coef, 3))
    p_values.append(round(p_value, 3))

# Create a DataFrame to store the results
results_df = pd.DataFrame({'Parameter': params, 'Pearson Coefficient': pearson_coefficients, 'p-value': p_values})
results_df











df_para=df[(df['Breed'] == 'Parakeet')]
df_para.reset_index(drop=True, inplace=True)
df_para.drop(columns=['PetType','Breed'], inplace=True)
df_para


plt.plot(data = df_para, x = "AgeMonths", y = "WeightKg")
plt.grid()
plt.show()


from sklearn.model_selection import train_test_split
from sklearn.preprocessing import StandardScaler, OneHotEncoder
from sklearn.compose import ColumnTransformer
from sklearn.pipeline import Pipeline
from sklearn.impute import SimpleImputer
from sklearn.linear_model import LogisticRegression


# Define the features and target variable
X = df.drop(columns=['AdoptionLikelihood'])
Y = df['AdoptionLikelihood']



from sklearn.model_selection import cross_val_score

# Perform cross-validation
cv_scores = cross_val_score(model, X, Y, cv=5)

# Print the cross-validation scores
print('Cross-Validation Scores:', cv_scores)
print('Mean CV Accuracy:', cv_scores.mean())
print('Standard Deviation of CV Accuracy:', cv_scores.std())


from sklearn.model_selection import GridSearchCV

# Define the parameter grid
param_grid = {
    'classifier__C': [0.1, 1, 10, 100],
    'classifier__solver': ['liblinear', 'saga']
}

# Define the grid search
grid_search = GridSearchCV(model, param_grid, cv=5, scoring='accuracy')

# Fit the model
grid_search.fit(X, Y)

# Print the best parameters and best score
print('Best Parameters:', grid_search.best_params_)
print('Best CV Accuracy:', grid_search.best_score_)






# Identify numerical and categorical columns
numerical_features = ['AgeMonths', 'WeightKg', 'AdoptionFee', 'TimeInShelterDays']
categorical_features = ['PetType', 'Breed', 'Color', 'Size', 'Vaccinated', 'HealthCondition', 'PreviousOwner']

# Preprocessing for numerical data
numerical_transformer = Pipeline(steps=[
    ('imputer', SimpleImputer(strategy='median')),
    ('scaler', StandardScaler())
])

# Preprocessing for categorical data
categorical_transformer = Pipeline(steps=[
    ('imputer', SimpleImputer(strategy='most_frequent')),
    ('onehot', OneHotEncoder(handle_unknown='ignore'))
])

# Combine preprocessing steps
preprocessor = ColumnTransformer(
    transformers=[
        ('num', numerical_transformer, numerical_features),
        ('cat', categorical_transformer, categorical_features)
    ])

# Split the dataset into training and testing sets
X_train, X_test, y_train, y_test = train_test_split(X, Y, test_size=0.2, random_state=3)

# Define the model pipeline
model = Pipeline(steps=[
    ('preprocessor', preprocessor),
    ('classifier', LogisticRegression(max_iter=1000))
])

# Train the model
model.fit(X_train, y_train)


from sklearn.metrics import classification_report, accuracy_score

# Make predictions
y_pred = model.predict(X_test)

# Evaluate the model
accuracy = accuracy_score(y_test, y_pred)
report = classification_report(y_test, y_pred)

print('Accuracy:', accuracy)
print('Classification Report:')
print(report)






print("test")



