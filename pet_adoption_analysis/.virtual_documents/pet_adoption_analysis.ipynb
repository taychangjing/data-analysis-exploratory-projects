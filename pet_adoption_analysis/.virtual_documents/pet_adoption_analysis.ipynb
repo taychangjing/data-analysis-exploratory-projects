





%matplotlib inline
import pandas as pd
import numpy as np
import matplotlib.pyplot as plt
import seaborn as sns


df = pd.read_csv('dataset/pet_adoption_data.csv')
df


df.info()





df= df.drop('PetID', axis=1)
df


df['WeightKg']=df['WeightKg'].round(2)
df.head()





df_PetType=df['PetType'].value_counts()
ax = df_PetType.plot(kind='bar', figsize=(8,6), color='orange')
for p in ax.patches:
    height = p.get_height()
    ax.annotate(f'{height}', 
                (p.get_x() + p.get_width() / 2., height),
                ha='center', va='center', 
                xytext=(0, 6), 
                textcoords='offset points')
plt.title('Distribution of Pet Type')
plt.xlabel('Pet Type')
plt.ylabel('Counts')
plt.show()





custom_palette = ['#FF6347', '#4682B4']

#Pet Type
ax0=sns.countplot(x = df['PetType'],  hue = df['AdoptionLikelihood'], data=df, palette=custom_palette)
for p in ax0.patches:
        height = int(p.get_height())  # Convert height to integer
        if height > 0:  # Only annotate if the height is greater than zero
            ax0.annotate(f'{height}', (p.get_x() + p.get_width() / 2., height), 
                        ha='center', va='center', xytext=(0, 5), textcoords='offset points')
plt.legend(title='AdoptionLikelihood', loc="center left", bbox_to_anchor=(1, 0.5))
#Breed
plt.figure(figsize=(10,6))
ax1=sns.countplot(x = df['Breed'],  hue = df['AdoptionLikelihood'], data=df, palette=custom_palette)
for p in ax1.patches:
        height = int(p.get_height())  # Convert height to integer
        if height > 0:  # Only annotate if the height is greater than zero
            ax1.annotate(f'{height}', (p.get_x() + p.get_width() / 2., height), 
                        ha='center', va='center', xytext=(0, 5), textcoords='offset points')
plt.legend(title='AdoptionLikelihood', loc="center left", bbox_to_anchor=(1, 0.5))
plt.xticks(rotation=90)

#Color
plt.figure(figsize=(8,6))
ax2=sns.countplot(x = df['Color'],  hue = df['AdoptionLikelihood'], data=df, palette=custom_palette)
for p in ax2.patches:
        height = int(p.get_height())  # Convert height to integer
        if height > 0:  # Only annotate if the height is greater than zero
            ax2.annotate(f'{height}', (p.get_x() + p.get_width() / 2., height), 
                        ha='center', va='center', xytext=(0, 5), textcoords='offset points')
plt.legend(title='AdoptionLikelihood', loc="center left", bbox_to_anchor=(1, 0.5))

#Size
plt.figure(figsize=(8,6))
ax3=sns.countplot(x = df['Size'],  hue = df['AdoptionLikelihood'],data=df, palette=custom_palette)
for p in ax3.patches:
        height = int(p.get_height())  # Convert height to integer
        if height > 0:  # Only annotate if the height is greater than zero
            ax3.annotate(f'{height}', (p.get_x() + p.get_width() / 2., height), 
                        ha='center', va='center', xytext=(0, 5), textcoords='offset points')
plt.legend(title='AdoptionLikelihood', loc="center left", bbox_to_anchor=(1, 0.5))





df_dog=df[(df['PetType'] == 'Dog')]
df_dog=df_dog.reset_index(drop=True)
df_dog=df_dog.drop('PetType', axis=1)


df_labrador= df_dog.loc[
    (df_dog["Breed"] == "Labrador")
    & (df_dog["Size"] == "Medium")
    & (df_dog["Color"] == "Orange")
].copy()
df_labrador = df_labrador.sort_values(by="WeightKg")
df_labrador= df_labrador.reset_index(drop=True)
df_labrador


sns.scatterplot(data = df_labrador, x = "AgeMonths", y = "WeightKg")
plt.grid()
plt.show()





#Vaccinated
plt.figure(figsize=(8,6))
ax4=sns.countplot(x = df['Vaccinated'],  hue = df['AdoptionLikelihood'], data=df, palette=custom_palette)
for p in ax4.patches:
        height = int(p.get_height())  # Convert height to integer
        if height > 0:  # Only annotate if the height is greater than zero
            ax4.annotate(f'{height}', (p.get_x() + p.get_width() / 2., height), 
                        ha='center', va='center', xytext=(0, 5), textcoords='offset points')
plt.legend(title='AdoptionLikelihood', loc="center left", bbox_to_anchor=(1, 0.5))

#Health Condition
plt.figure(figsize=(8,6))
ax5=sns.countplot(x = df['HealthCondition'],  hue = df['AdoptionLikelihood'], data=df, palette=custom_palette)
for p in ax5.patches:
        height = int(p.get_height())  # Convert height to integer
        if height > 0:  # Only annotate if the height is greater than zero
            ax5.annotate(f'{height}', (p.get_x() + p.get_width() / 2., height), 
                        ha='center', va='center', xytext=(0, 5), textcoords='offset points')
plt.legend(title='AdoptionLikelihood', loc="center left", bbox_to_anchor=(1, 0.5))

#Previous Owner
plt.figure(figsize=(8,6))
ax6=sns.countplot(x = df['PreviousOwner'],  hue = df['AdoptionLikelihood'], data=df, palette=custom_palette)
for p in ax6.patches:
        height = int(p.get_height())  # Convert height to integer
        if height > 0:  # Only annotate if the height is greater than zero
            ax6.annotate(f'{height}', (p.get_x() + p.get_width() / 2., height), 
                        ha='center', va='center', xytext=(0, 5), textcoords='offset points')
plt.legend(title='AdoptionLikelihood', loc="center left", bbox_to_anchor=(1, 0.5))


# PetType
sns.boxplot(data=df, x='PetType', y='AgeMonths')
plt.title('Age Distribution by Pet Type')
plt.show()

# Breed
sns.boxplot(data=df, x='Breed', y='AgeMonths')
plt.title('Age Distribution by Breed')
plt.xticks(rotation=90)  # Rotate x-axis labels if there are many breeds
plt.show()

# Size
sns.boxplot(data=df, x='Size', y='AgeMonths')
plt.title('Age Distribution by Size')
plt.show()

# Vaccinated
sns.boxplot(data=df, x='Vaccinated', y='AgeMonths')
plt.title('Age Distribution by Vaccination Status')
plt.show()

# HealthCondition
sns.boxplot(data=df, x='HealthCondition', y='AgeMonths')
plt.title('Age Distribution by Health Condition')
plt.show()

# PreviousOwner
sns.boxplot(data=df, x='PreviousOwner', y='AgeMonths')
plt.title('Age Distribution by Previous Owner Status')
plt.show()



# PetType
sns.boxplot(data=df, x='PetType', y='WeightKg')
plt.title('Weight Distribution by Pet Type')
plt.show()

# Breed
sns.boxplot(data=df, x='Breed', y='WeightKg')
plt.title('Weight Distribution by Breed')
plt.xticks(rotation=90)  # Rotate x-axis labels if there are many breeds
plt.show()

# Size
sns.boxplot(data=df, x='Size', y='WeightKg')
plt.title('Weight Distribution by Size')
plt.show()

# Vaccinated
sns.boxplot(data=df, x='Vaccinated', y='WeightKg')
plt.title('Weight Distribution by Vaccination Status')
plt.show()

# HealthCondition
sns.boxplot(data=df, x='HealthCondition', y='WeightKg')
plt.title('Weight Distribution by Health Condition')
plt.show()

# PreviousOwner
sns.boxplot(data=df, x='PreviousOwner', y='WeightKg')
plt.title('Weight Distribution by Previous Owner Status')
plt.show()



# PetType
sns.boxplot(data=df, x='PetType', y='AdoptionFee')
plt.title('Adoption Fee Distribution by Pet Type')
plt.show()

# Breed
sns.boxplot(data=df, x='Breed', y='AdoptionFee')
plt.title('Adoption Fee Distribution by Breed')
plt.xticks(rotation=90)  # Rotate x-axis labels if there are many breeds
plt.show()

# Size
sns.boxplot(data=df, x='Size', y='AdoptionFee')
plt.title('Adoption Fee Distribution by Size')
plt.show()

# Vaccinated
sns.boxplot(data=df, x='Vaccinated', y='AdoptionFee')
plt.title('Adoption Fee Distribution by Vaccination Status')
plt.show()

# HealthCondition
sns.boxplot(data=df, x='HealthCondition', y='AdoptionFee')
plt.title('Adoption Fee Distribution by Health Condition')
plt.show()

# PreviousOwner
sns.boxplot(data=df, x='PreviousOwner', y='AdoptionFee')
plt.title('Adoption Fee Distribution by Previous Owner Status')
plt.show()



from scipy import stats

for param in ['AgeMonths', 'WeightKg', 'Vaccinated', 'HealthCondition', 'TimeInShelterDays', 'AdoptionFee', 'PreviousOwner']:
    pearson_coef, p_value = stats.pearsonr(df[param], df['AdoptionLikelihood'])
    print(f'{param}: Pearson Coefficient = {pearson_coef:.3f}, p-value = {p_value:.3f}')












from sklearn.model_selection import train_test_split
from sklearn.preprocessing import StandardScaler, OneHotEncoder
from sklearn.compose import ColumnTransformer
from sklearn.pipeline import Pipeline
from sklearn.impute import SimpleImputer
from sklearn.linear_model import LogisticRegression


# Define the features and target variable
X = df.drop(columns=['AdoptionLikelihood'])
Y = df['AdoptionLikelihood']



from sklearn.model_selection import cross_val_score

# Perform cross-validation
cv_scores = cross_val_score(model, X, Y, cv=5)

# Print the cross-validation scores
print('Cross-Validation Scores:', cv_scores)
print('Mean CV Accuracy:', cv_scores.mean())
print('Standard Deviation of CV Accuracy:', cv_scores.std())


from sklearn.model_selection import GridSearchCV

# Define the parameter grid
param_grid = {
    'classifier__C': [0.1, 1, 10, 100],
    'classifier__solver': ['liblinear', 'saga']
}

# Define the grid search
grid_search = GridSearchCV(model, param_grid, cv=5, scoring='accuracy')

# Fit the model
grid_search.fit(X, Y)

# Print the best parameters and best score
print('Best Parameters:', grid_search.best_params_)
print('Best CV Accuracy:', grid_search.best_score_)






# Identify numerical and categorical columns
numerical_features = ['AgeMonths', 'WeightKg', 'AdoptionFee', 'TimeInShelterDays']
categorical_features = ['PetType', 'Breed', 'Color', 'Size', 'Vaccinated', 'HealthCondition', 'PreviousOwner']

# Preprocessing for numerical data
numerical_transformer = Pipeline(steps=[
    ('imputer', SimpleImputer(strategy='median')),
    ('scaler', StandardScaler())
])

# Preprocessing for categorical data
categorical_transformer = Pipeline(steps=[
    ('imputer', SimpleImputer(strategy='most_frequent')),
    ('onehot', OneHotEncoder(handle_unknown='ignore'))
])

# Combine preprocessing steps
preprocessor = ColumnTransformer(
    transformers=[
        ('num', numerical_transformer, numerical_features),
        ('cat', categorical_transformer, categorical_features)
    ])

# Split the dataset into training and testing sets
X_train, X_test, y_train, y_test = train_test_split(X, Y, test_size=0.2, random_state=3)

# Define the model pipeline
model = Pipeline(steps=[
    ('preprocessor', preprocessor),
    ('classifier', LogisticRegression(max_iter=1000))
])

# Train the model
model.fit(X_train, y_train)


from sklearn.metrics import classification_report, accuracy_score

# Make predictions
y_pred = model.predict(X_test)

# Evaluate the model
accuracy = accuracy_score(y_test, y_pred)
report = classification_report(y_test, y_pred)

print('Accuracy:', accuracy)
print('Classification Report:')
print(report)







