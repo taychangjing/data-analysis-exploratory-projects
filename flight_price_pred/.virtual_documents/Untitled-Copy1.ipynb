





import numpy as np
import pandas as pd
import matplotlib.pyplot as plt
import seaborn as sns





df_ori=pd.read_csv('dataset/flight_dataset.csv')
df_ori.head()


df_ori.info()





# Convert Date, Month, Year into Date Format
df_ori['ExactDate'] = pd.to_datetime(df_ori[['Year', 'Month', 'Date']].rename(columns={'Date': 'day'}))
df_ori['Total_Duration'] = (df_ori['Duration_hours'] + df_ori['Duration_min'] / 60).round(2)

# Categorizes a given hour (ranging from 0 to 23) into different parts of the day

def categorize_time(hour):
    if 0 <= hour < 4:
        return 'Midnight'
    elif 4 <= hour < 8:
        return 'Early Morning'
    elif 8 <= hour < 12:
        return 'Morning'
    elif 12 <= hour < 16:
        return 'Afternoon'
    elif 16 <= hour < 20:
        return 'Evening'
    else:
        return 'Night'

# Create a new column
df_ori['Dep_time'] = df_ori['Dep_hours'].apply(categorize_time)
df_ori['Arrival_time'] = df_ori['Arrival_hours'].apply(categorize_time)





df = df_ori.drop(columns=['Date','Month','Year','Dep_hours','Dep_min','Arrival_hours','Arrival_min','Duration_hours','Duration_min'])
df['Destination'] = df['Destination'].replace('New Delhi','Delhi')
df['Total_Stops'] = df['Total_Stops'].astype(str)
df = df.sort_values(by=['Total_Stops'], ascending=[True])
df = df.reset_index(drop=True)
df.head()


df.info()





sns.barplot(x='Airline', y='Price', data=df, hue='Airline', estimator=np.mean, palette='pastel', errorbar=None)
plt.title('Average Price by Airline')
plt.xlabel('Airline')
plt.ylabel('Average Price')
plt.xticks(rotation=45, ha="right")





df = df[df['Airline'] != 'Jet Airways Business']

sns.barplot(x='Airline', y='Price', data=df, hue='Airline', estimator=np.mean, palette='pastel', errorbar=None)
plt.title('Average Price by Airline')
plt.xlabel('Airline')
plt.ylabel('Average Price')
plt.xticks(rotation=45, ha='right')


df_corr = df.copy()

# Convert Category Variable to Numeric Code
df_corr['Airline'] = df_corr['Airline'].astype('category').cat.codes
df_corr['Source'] = df_corr['Source'].astype('category').cat.codes
df_corr['Destination'] = df_corr['Destination'].astype('category').cat.codes
df_corr['Total_Stops'] = df_corr['Total_Stops'].astype('category').cat.codes
df_corr['Dep_time'] = df_corr['Dep_time'].astype('category').cat.codes
df_corr['Arrival_time'] = df_corr['Arrival_time'].astype('category').cat.codes
df_corr['ExactDate'] = df_corr['ExactDate'].astype('category').cat.codes


df.tail(10)





plt.figure(figsize = (8, 8))
for i, col in enumerate(df_corr.columns[1:], start=1):
    plt.subplot(3, 3, i)
    sns.boxplot(df_corr[col])
    plt.tight_layout()
    plt.plot()





Q1 = df_corr['Price'].quantile(0.25)  # 25th percentile (Q1)
Q3 = df_corr['Price'].quantile(0.75)  # 75th percentile (Q3)
IQR = Q3 - Q1                    # Interquartile Range (IQR)

# Calculate the exact thresholds
lower_threshold = Q1 - 1.5 * IQR
upper_threshold = Q3 + 1.5 * IQR

lower_threshold, upper_threshold


def removal_box_plot(df_corr, column, outliers):
 
    removed_outliers = df_corr[df_corr[column] <= outliers_value]
 
    sns.boxplot(removed_outliers[column])
    plt.title(f'Box Plot without Outliers of {column}')
    plt.show()
    return removed_outliers
 
 
outliers_value = 23017
 
no_outliers = removal_box_plot(df, 'Price', outliers_value)





# To remove outliers
df_corr = df_corr[df_corr['Price'] <= outliers_value]


# Heatmap
plt.figure(figsize=(8, 6))
sns.heatmap(df_corr.corr(), annot=True, cmap='coolwarm', fmt='.2f')
plt.title('Correlation Matrix Heatmap')
plt.show()





fig,(ax_1, ax_2) = plt.subplots(1, 2, figsize=(14, 7))

# 1st subplot: Average Price by Total Stops
sns.barplot(x='Total_Stops', y='Price', hue='Total_Stops', data=df, estimator=np.mean, palette='pastel', errorbar=None, ax=ax_1)
ax_1.set_title('Average Price by Total Stops')
ax_1.set_xlabel('Number of Stops')
ax_1.set_ylabel('Average Price')

# 2nd subplot: Price by Total Duration
sns.scatterplot(data=df_corr, x='Total_Duration', y='Price',hue='Destination', size='Total_Stops',sizes=(50, 250), palette='pastel', legend='full',ax=ax_2)
sns.regplot(data=df_corr, x='Total_Duration', y='Price', scatter=False, ax=ax_2, color='red', logx=True)
ax_2.set_title('Distribution of Price over Total Duration')
ax_2.set_xlabel('Duration')
ax_2.set_ylabel('Price')

plt.tight_layout()
plt.show()









fig,(ax_3,ax_4) = plt.subplots(1, 2, figsize=(14, 7))

# 3rd subplot: Average Price by Date

df_date=df.sort_values(by='ExactDate', ascending=True)
sns.barplot(x='ExactDate', y='Price', data=df_date, estimator=np.mean, errorbar=None, ax=ax_3)
ax_3.set_title('Average Price by Date')
ax_3.set_xlabel('Date')
ax_3.set_ylabel('Average Price')
tick_positions = ax_3.get_xticks()
ax_3.set_xticks(tick_positions)
ax_3.set_xticklabels(ax_3.get_xticklabels(),rotation=90)
# Annotate arrow
ax_3.annotate('',  # s: str. will leave it blank for no text
             xy=(24, 17500),  # place head of the arrow at point 
             xytext=(1, 17500),  # place base of the arrow at point
             xycoords='data',  # will use the coordinate system of the object being annotated
             arrowprops=dict(arrowstyle='<-', connectionstyle='arc3', color='red', lw=2)
             )
# Annotate text
ax_3.annotate('Is Friday, where Maha Shivaratri(on 4th March)',  # text to display
             xy=(2, 17500),  # start the text at at point 
             rotation=360,  # based on trial and error to match the arrow
             va='bottom',  # want the text to be vertically 'bottom' aligned
             ha='left',  # want the text to be horizontally 'left' algned.
             )


# 4th subplot: Average Price by Different Arrival Time Range
time_order=['Early Morning','Morning','Afternoon','Evening','Night','Midnight']
sns.barplot(data=df, x="Arrival_time", y="Price", hue = "Arrival_time",palette='pastel', errorbar=None, order=time_order, ax=ax_4)
ax_4.set_title('Average Price by Different Arrival Time Range')
ax_4.set_xlabel('Arrival Time Range')
ax_4.set_ylabel('Average Price')

# Adjust layout to prevent overlapping
plt.tight_layout()
plt.show()








from sklearn.model_selection import train_test_split, GridSearchCV
from sklearn.linear_model import Ridge, LinearRegression
from sklearn.metrics import mean_squared_error, r2_score
from sklearn.preprocessing import StandardScaler, PolynomialFeatures
from sklearn.pipeline import Pipeline
from sklearn.ensemble import RandomForestRegressor





def DistributionPlot(RedFunction, BlueFunction, RedName, BlueName, Title):
    width = 8
    height = 6
    plt.figure(figsize=(width, height))

    ax4=sns.kdeplot(RedFunction, color="r", label=RedName)
    sns.kdeplot(BlueFunction, color="b", label=BlueName, ax=ax4)
    plt.title(Title)
    plt.legend()
    plt.show()
    plt.close()





Z=df_corr.drop(['Price'],axis=1)
Y=df_corr['Price']
lm=LinearRegression()
lm.fit(Z,Y)
print('The R-square is: ', lm.score(Z,Y))
Yhat=lm.predict(Z)
print('The MSE is: ', mean_squared_error(Y, Yhat))


Title = 'Actual vs Predicted Values for Price'
DistributionPlot(Y, Yhat, 'Actual Values', 'Predicted Values', Title)








Input=[('scale',StandardScaler()), ('polynomial', PolynomialFeatures(include_bias=False)), ('model', LinearRegression())]
pipe=Pipeline(Input)
Z = Z.astype(float)
pipe.fit(Z,Y)
y_hat=pipe.predict(Z)
print('The R-square is: ',r2_score(Y,y_hat))
print('The MSE is: ',mean_squared_error(Y, y_hat))








x_train, x_test, y_train, y_test = train_test_split(Z, Y, test_size=0.3, random_state=1)
print("number of test samples :", x_test.shape[0])
print("number of training samples:",x_train.shape[0])





parameters1 = [{'alpha': [0.001, 0.1, 1, 10, 100, 1000, 10000, 100000, 100000]}]
RidgeModel=Ridge()
Grid = GridSearchCV(RidgeModel,parameters1, cv=4)
Grid.fit(Z,Y)
Best_alpha=Grid.best_params_['alpha']

print('The best hyperparameter is:', Best_alpha)


pr = PolynomialFeatures(degree=3)
x_train_pr = pr.fit_transform(x_train)
x_test_pr = pr.fit_transform(x_test)

RidgeModel=Ridge(alpha=100)
RidgeModel.fit(x_train_pr,y_train)
y_hat = RidgeModel.predict(x_test_pr)
print('The R-square is: ', r2_score(y_test,y_hat))
print('The MSE is: ',mean_squared_error(y_test, y_hat))


Title = 'Actual vs Predicted Values Using Test Data for Price'
DistributionPlot(y_test, y_hat, 'Actual Values (Test)', 'Predicted Values (Test)', Title)





rfr= RandomForestRegressor()
rfr.fit(Z,Y)
print('The R-square is: ', rfr.score(Z,Y))
yhat=rfr.predict(Z)
print('The MSE is: ', mean_squared_error(Y, Yhat))


Title = 'Actual vs Predicted Values for Price'
DistributionPlot(Y, yhat, 'Actual Values', 'Predicted Values', Title)


yhat[0:10]



