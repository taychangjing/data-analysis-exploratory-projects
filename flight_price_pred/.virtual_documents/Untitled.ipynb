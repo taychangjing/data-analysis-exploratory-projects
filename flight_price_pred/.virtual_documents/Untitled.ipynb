import numpy as np
import pandas as pd
import matplotlib.pyplot as plt
import seaborn as sns


df_ori=pd.read_csv('dataset/flight_dataset.csv')
df_ori.head()


df_ori.info()


df_ori.describe()





df_ori['ExactDate'] = pd.to_datetime(df_ori[['Year', 'Month', 'Date']].rename(columns={'Date': 'day'}))
df_ori['Total_Duration'] = (df_ori['Duration_hours'] + df_ori['Duration_min'] / 60).round(2)

def categorize_time(hour):
    if 0 <= hour < 3:
        return 'Midnight'
    elif 3 <= hour < 7:
        return 'Early Morning'
    elif 7 <= hour < 12:
        return 'Morning'
    elif 12 <= hour < 5:
        return 'Afternoon'
    elif 5 <= hour < 21:
        return 'Evening'
    else:
        return 'Night'

# Apply the function to create a new column
df_ori['Dep_time'] = df_ori['Dep_hours'].apply(categorize_time)
df_ori['Arrival_time'] = df_ori['Arrival_hours'].apply(categorize_time)
df_ori.head()


df = df_ori.drop(columns=['Date','Month','Year','Dep_hours','Dep_min','Arrival_hours','Arrival_min','Duration_hours','Duration_min'])
df.head()


df['Destination'] = df['Destination'].replace('New Delhi','Delhi')
df['Total_Stops'] = df['Total_Stops'].astype(str)
df = df.sort_values(by=['Total_Stops'], ascending=[True])
df = df.reset_index(drop=True)
df.head()


df.info()


fig, (ax_1, ax_2) = plt.subplots(1, 2, figsize=(24, 10))

# First subplot: Average Price by Airline
sns.barplot(x='Airline', y='Price', data=df, hue='Airline', estimator=np.mean, palette='pastel', errorbar=None, ax=ax_1)
ax_1.set_title('Average Price by Airline')
ax_1.set_xlabel('Airline')
ax_1.set_ylabel('Average Price')
ax_1.set_xticklabels(ax_1.get_xticklabels(), rotation=45, ha='right')
ax_1.grid(axis='y')

# Second subplot: Average Price by Total Stops
sns.barplot(x='Total_Stops', y='Price', hue='Total_Stops', data=df, estimator=np.mean, palette='pastel', errorbar=None, ax=ax_2)
ax_2.set_title('Average Price by Total Stops')
ax_2.set_xlabel('Number of Stops')
ax_2.set_ylabel('Average Price')

# Adjust layout to prevent overlapping
plt.tight_layout()
plt.show()


df_date = df.sort_values(by=['ExactDate'], ascending=True).copy()
df_date = df_date.reset_index(drop=True)

plt.figure(figsize=(8, 4))
sns.barplot(x='ExactDate', y='Price', data=df_date, estimator=np.mean, errorbar=None)
plt.title('Average Price by Date')
plt.xlabel('Date')
plt.ylabel('Average Price')
plt.xticks(rotation=90)
plt.show()


# Define the function to filter, sort, and reset the index of the DataFrame
def filter_sort_dataframe(df, source, destination):
    filtered_df = df.loc[(df['Source'] == source) & (df['Destination'] == destination)].copy()
    sorted_df = filtered_df.sort_values(by=['ExactDate', 'Airline', 'Price'], ascending=[True, True, True])
    reset_df = sorted_df.reset_index(drop=True)
    return reset_df

# List of source and destination pairs
source_destination_pairs = [('Banglore', 'Delhi'),('Chennai', 'Kolkata'),('Delhi', 'Cochin'),('Kolkata','Banglore'),('Mumbai','Hyderabad')]

# Dictionary to store the resulting DataFrames
filtered_dfs = {}

# Loop through each pair and create the DataFrame
for source, destination in source_destination_pairs:
    key = f"{source}_{destination}"
    filtered_dfs[key] = filter_sort_dataframe(df, source, destination)

# Example usage
df_Banglore_Delhi = filtered_dfs['Banglore_Delhi']
df_Chennai_Kolkata = filtered_dfs['Chennai_Kolkata']
df_Delhi_Cochin= filtered_dfs['Delhi_Cochin']
df_Kolkata_Banglore = filtered_dfs['Kolkata_Banglore']
df_Mumbai_Hyderabad = filtered_dfs['Mumbai_Hyderabad']






# First subplot: Average Price by Airline
fig, ((ax1, ax2), (ax3, ax4)) = plt.subplots(2, 2, figsize=(14, 12))

sns.barplot(x ='Airline', y='Price', data=df_Banglore_Delhi, hue='Airline', estimator=np.mean, palette='pastel', errorbar=None, ax=ax1)
ax1.set_title('Average Price by Airline (Banglore to Delhi)')
ax1.set_xlabel('Airline')
ax1.set_ylabel('Average Price')
ax1.set_xticklabels(ax1.get_xticklabels(), rotation=90)
ax1.grid(axis='y')

# Second subplot: Average Price by Date
sns.barplot(x ='ExactDate', y='Price', data=df_Banglore_Delhi, hue='ExactDate', estimator=np.mean, errorbar=None, ax=ax2)
ax2.set_title('Average Price by Date (Banglore to Delhi)')
ax2.set_xlabel('Date')
ax2.set_ylabel('Average Price')
ax2.set_xticklabels(ax2.get_xticklabels(), rotation=90)

# Third subplot: Average Price by Total Stops
sns.barplot(x ='Total_Stops', y='Price', hue='Total_Stops', data=df_Banglore_Delhi, estimator=np.mean, palette='pastel', errorbar=None, ax=ax3)
ax3.set_title('Average Price by Total Stops (Banglore to Delhi)')
ax3.set_xlabel('Number of Stops')
ax3.set_ylabel('Average Price')

# Forth subplot: Average Price by Total Stops
sns.barplot(x ='Total_Stops', y='Price', hue='Airline', data=df_Banglore_Delhi, estimator=np.mean, palette='pastel', errorbar=None, ax=ax4)
ax4.set_title('Average Price of Different Airline by Total Stops (Banglore to Delhi)')
ax4.set_xlabel('Number of Stops')
ax4.set_ylabel('Average Price')

# Adjust layout to prevent overlapping
plt.tight_layout()
plt.show()


# First subplot: Average Price by Airline
fig, (ax5, ax6) = plt.subplots(1, 2, figsize=(16, 8))

# First subplot: Average Price by Date
sns.barplot(x ='ExactDate', y='Price', data=df_Chennai_Kolkata, hue='ExactDate', estimator=np.mean, errorbar=None, ax=ax5)
ax5.set_title('Average Price by Date (Chennai to Kolkata)')
ax5.set_xlabel('Date')
ax5.set_ylabel('Average Price')
ax5.set_xticklabels(ax5.get_xticklabels(), rotation=90)


# Second subplot: Average Price by Total Stops
sns.barplot(x ='Total_Stops', y='Price', hue='Airline', data=df_Chennai_Kolkata, estimator=np.mean, palette='pastel', errorbar=None, ax=ax6)
ax6.set_title('Average Price of Different Airline by Total Stops (Chennai to Kolkata)')
ax6.set_xlabel('Number of Stops')
ax6.set_ylabel('Average Price')

# Adjust layout to prevent overlapping
plt.tight_layout()
plt.show()


# First subplot: Average Price by Airline
fig, ((ax7, ax8), (ax9, ax10)) = plt.subplots(2, 2, figsize=(14, 12))

sns.barplot(x ='Airline', y='Price', data=df_Delhi_Cochin, hue='Airline', estimator=np.mean, palette='pastel', errorbar=None, ax=ax7)
ax7.set_title('Average Price by Airline (Delhi to Cochin)')
ax7.set_xlabel('Airline')
ax7.set_ylabel('Average Price')
ax7.set_xticklabels(ax7.get_xticklabels(), rotation=90)
ax7.grid(axis='y')

# Second subplot: Average Price by Date
sns.barplot(x ='ExactDate', y='Price', data=df_Delhi_Cochin, hue='ExactDate', estimator=np.mean, errorbar=None, ax=ax8)
ax8.set_title('Average Price by Date (Delhi to Cochin)')
ax8.set_xlabel('Date')
ax8.set_ylabel('Average Price')
ax8.set_xticklabels(ax8.get_xticklabels(), rotation=90)

# Third subplot: Average Price by Total Stops
sns.barplot(x ='Total_Stops', y='Price', hue='Total_Stops', data=df_Delhi_Cochin, estimator=np.mean, palette='pastel', errorbar=None, ax=ax9)
ax9.set_title('Average Price by Total Stops (Delhi to Cochin)')
ax9.set_xlabel('Number of Stops')
ax9.set_ylabel('Average Price')

# Forth subplot: Average Price by Total Stops
sns.barplot(x ='Total_Stops', y='Price', hue='Airline', data=df_Delhi_Cochin, estimator=np.mean, palette='pastel', errorbar=None, ax=ax10)
ax10.set_title('Average Price of Different Airline by Total Stops (Delhi to Cochin)')
ax10.set_xlabel('Number of Stops')
ax10.set_ylabel('Average Price')

# Adjust layout to prevent overlapping
plt.tight_layout()
plt.show()



