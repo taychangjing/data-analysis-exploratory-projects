{
 "cells": [
  {
   "cell_type": "code",
   "execution_count": 1,
   "id": "46c40da8-4456-49cf-8f22-548650dbcad6",
   "metadata": {},
   "outputs": [],
   "source": [
    "import pandas as pd"
   ]
  },
  {
   "cell_type": "code",
   "execution_count": null,
   "id": "9aac3077-97cc-409b-8f1e-071f50bcfc6a",
   "metadata": {},
   "outputs": [],
   "source": []
  }
 ],
 "metadata": {
  "kernelspec": {
   "display_name": "marathhon_time_predictions_analysis",
   "language": "python",
   "name": "marathhon_time_predictions_analysis"
  },
  "language_info": {
   "codemirror_mode": {
    "name": "ipython",
    "version": 3
   },
   "file_extension": ".py",
   "mimetype": "text/x-python",
   "name": "python",
   "nbconvert_exporter": "python",
   "pygments_lexer": "ipython3",
   "version": "3.12.1"
  }
 },
 "nbformat": 4,
 "nbformat_minor": 5
}
