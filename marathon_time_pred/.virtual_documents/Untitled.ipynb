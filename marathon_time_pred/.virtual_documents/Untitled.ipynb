%matplotlib inline
import pandas as pd
import numpy as np
import matplotlib.pyplot as plt
import seaborn as sns


df = pd.read_csv('dataset/MarathonData.csv')
df


df.info()
df.describe()


df.drop(df[['id','Marathon','Name','CrossTraining']], axis=1,inplace=True)
df


df.replace({'Wall21': {' -   ': np.nan}}, inplace=True)
df.dropna(subset=['Wall21'], axis=0,inplace=True)
df['Wall21']=df['Wall21'].astype('float')
df.info()


plt.figure(figsize=(6, 4))
sns.countplot(x='Category', data=df, palette= 'pastel')
plt.title('Distribution of Marathon Category(Sex & Age)')
plt.ylabel('Count')
plt.show()


plt.figure(figsize=(6, 4))
sns.countplot(x='CATEGORY', data=df, palette= 'pastel')
plt.title('Distribution of Marathon Category(Total Time)')
plt.ylabel('Count')
plt.show()


y=df['MarathonTime']
x=df['Wall21']
plt.scatter(x,y)
plt.xlabel('Wall21')
plt.ylabel('MarathonTime')



