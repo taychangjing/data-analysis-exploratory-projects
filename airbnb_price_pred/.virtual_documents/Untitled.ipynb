








%matplotlib inline
import pandas as pd
import numpy as np
import matplotlib.pyplot as plt
import seaborn as sns 





df_ori= pd.read_csv('dataset/airbnb_lisitng.csv')
df_ori.head()


df_ori.info()





df = df_ori.drop(columns=['attr_index','attr_index_norm','rest_index','rest_index_norm','lng','lat','room_shared','room_private'])


df.rename(columns={'realSum': 'Price'}, inplace=True)
df['Price']=df['Price'].round(2)


df.info()


df.describe()











sns.boxplot(df['Price'])





def removal_box_plot(df, column, threshold):
 
    removed_outliers = df[df[column] <= threshold]
 
    sns.boxplot(removed_outliers[column])
    plt.title(f'Box Plot without Outliers of {column}')
    plt.show()
    return removed_outliers
 
 
threshold_value = 702
 
no_outliers = removal_box_plot(df, 'Price', threshold_value)








df_corr=df.copy()


# To remove outliers
df_corr = df_corr[df_corr['Price'] <= 702]


# Convert Category Variable to Numeric Code
df_corr['City'] = df_corr['City'].astype('category').cat.codes

mapper = {'Entire home/apt': 2, 'Private room': 1, 'Shared room': 0}
df_corr['room_type'] = df_corr['room_type'].map(mapper)






# Heatmap
plt.figure(figsize=(8, 6))
sns.heatmap(df_corr.corr(), annot=True, cmap='coolwarm', fmt='.2f')
plt.title('Correlation Matrix Heatmap')
plt.show()





df_corr = df_corr.drop(columns=['City','Weekdays','host_is_superhost','multi','biz','guest_satisfaction_overall','cleanliness_rating'])


# Heatmap
plt.figure(figsize=(8, 6))
sns.heatmap(df_corr.corr(), annot=True, cmap='coolwarm', fmt='.2f')
plt.title('Correlation Matrix Heatmap')
plt.show()





def plot_features_against_price(df_corr, target='Price'):
    cols = [col for col in df_corr.columns if col not in [target, 'dist', 'metro_dist']]
    plt.figure(figsize=(16, 12))
    
    for i, col in enumerate(cols, start=1):
            plt.subplot(3, 3, i)
            sns.boxplot(x=df_corr[col], y=df_corr[target])
            plt.title(f'{col} vs {target}')
        
    plt.tight_layout()
    plt.show()
plot_features_against_price(df_corr, target='Price')





fig,(ax_1, ax_2, ax_3) = plt.subplots(1, 3, figsize=(21, 7))

# 1st Subplot: Average Price by Room Type
sns.barplot(x='room_type', y='Price', hue='room_type', data=df, estimator=np.mean, palette='pastel', errorbar=None,ax=ax_1)
ax_1.set_title('Average Price of Airbnb Listing by Room Type')
ax_1.set_xlabel('Types of Room')
ax_1.set_ylabel('Average Price')

# 2nd Subplot: Average Price by Capacity of Person 
sns.barplot(x='person_capacity', y='Price',hue='person_capacity', data=df,estimator=np.mean, palette='pastel', errorbar=None, ax=ax_2)
ax_2.set_title('Average Price of Airbnb Listing by Capacity of Person')
ax_2.set_xlabel('Person Capacity')
ax_2.set_ylabel('Average Price')
ax_2.legend().remove()

sns.barplot(x='bedrooms', y='Price',hue='bedrooms', data=df,estimator=np.mean, palette='pastel', errorbar=None, ax=ax_3)
ax_3.set_title('Average Price of Airbnb by Number of Bedrooms')
ax_3.set_xlabel('Number of Bedrooms')
ax_3.set_ylabel('Average Price')
ax_3.legend().remove()





fig,(ax_4,ax_5) = plt.subplots(1, 2, figsize=(20, 8))

# 1st subplot: Price by the Distance of Airbnb from City Centre
sns.scatterplot(data=df_corr, x='dist', y='Price', hue="bedrooms",size="bedrooms",palette='pastel', sizes=(20, 200), legend="full",ax=ax_4)
sns.regplot(data=df_corr, x='dist', y='Price', scatter=False, ax=ax_4, color='red', logx=True)
ax_4.set_title('Price by Distance of Airbnb Listing from City Centre')
ax_4.set_xlabel('Distance from City Centre')
ax_4.set_ylabel('Price')

# 2nd subplot: Price by the Distance of Airbnb from Metro Station
sns.scatterplot(data=df_corr, x='metro_dist', y='Price', hue="bedrooms",size="bedrooms",palette='pastel', sizes=(20, 200), legend="full",ax=ax_5)
sns.regplot(data=df_corr, x='metro_dist', y='Price', scatter=False, ax=ax_5, color='red', logx=True)
ax_5.set_title('Price by Distance of Airbnb Listing from Metro Station')
ax_5.set_xlabel('Distance from Metro Station')
ax_5.set_ylabel('Price') 








from sklearn.model_selection import train_test_split, GridSearchCV, cross_val_score
from sklearn.metrics import mean_squared_error, r2_score
from sklearn.preprocessing import StandardScaler
from sklearn.pipeline import Pipeline
from xgboost import XGBRegressor
from sklearn.ensemble import RandomForestRegressor





def DistributionPlot(RedFunction, BlueFunction, RedName, BlueName, Title):
    width = 8
    height = 6
    plt.figure(figsize=(width, height))

    ax4=sns.kdeplot(RedFunction, color="r", label=RedName)
    sns.kdeplot(BlueFunction, color="b", label=BlueName, ax=ax4)
    plt.title(Title)
    plt.legend()
    plt.show()
    plt.close()





Z=df_corr.drop(['Price'],axis=1)
Y=df_corr['Price']
xgb=XGBRegressor()
xgb.fit(Z,Y)
print('The R-square is: ', xgb.score(Z,Y))
Yhat=xgb.predict(Z)
print('The MSE is: ', mean_squared_error(Y, Yhat))


rfr= RandomForestRegressor()
rfr.fit(Z,Y)
print('The R-square is: ', rfr.score(Z,Y))
yhat=rfr.predict(Z)
print('The MSE is: ', mean_squared_error(Y, Yhat))





Title = 'Actual vs Predicted Values for Price'
DistributionPlot(Y, yhat, 'Actual Values', 'Predicted Values', Title)


Yhat[0:10]
